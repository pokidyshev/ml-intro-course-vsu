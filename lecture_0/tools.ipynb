{
 "cells": [
  {
   "cell_type": "markdown",
   "metadata": {},
   "source": [
    "# Инструменты для работы"
   ]
  },
  {
   "cell_type": "markdown",
   "metadata": {},
   "source": [
    "## Google Colab\n",
    "\n",
    "Самый простой способ обзавестись всем необходимым для прохождения этого курса — это воспользоваться Google Colab. Нужно только перейти по [ссылке](https://colab.research.google.com/), выбрать вкладку GitHub, вставить в поле ссылку на репозиторий курса (`https://github.com/pokidyshev/ml-intro-course-vsu`) — и вуаля! — выбирай любую тетрадку, открывай, смотри, выполняй задания."
   ]
  },
  {
   "cell_type": "markdown",
   "metadata": {},
   "source": [
    "## Anaconda\n",
    "\n",
    "Если же у тебя есть решительный настрой и в дальнейшем заниматься анализом данных, то рекомендую установить все инструменты локально. Проще всего это сделать через Anaconda.\n",
    "\n",
    "[Вот инструкция под все системы](https://docs.conda.io/projects/conda/en/latest/user-guide/install/). Там же можно найти и ссылки для скачивания.\n",
    "\n",
    "Дальше все просто, как вы и привыкли в Windows: _\"Далее\", \"Далее\", \"Готово\"_.\n",
    "\n",
    "Помимо самой Анаконды (и Python, который идет в комплекте) нам потребуется среда разработки — JupyterLab.\n",
    "\n",
    "Открой Anaconda Navigator и установи JupyterLab и все необходимые пакеты. Их потребуется немного: `numpy pandas sklearn matplotlib seaborn pip`. Если будут нужны еще какие-то пакеты, их можно будет установить таким же способом.\n",
    "\n",
    "Запусти JupyterLab через Anaconda Navigator, открой эту тетрадку через проводник и выполни следующую ячейку (нажми Shift + Enter). В результате не должно возникнуть ошибок."
   ]
  },
  {
   "cell_type": "code",
   "execution_count": 1,
   "metadata": {},
   "outputs": [],
   "source": [
    "import numpy, pandas, sklearn, matplotlib, seaborn"
   ]
  },
  {
   "cell_type": "markdown",
   "metadata": {},
   "source": [
    "На этом настройка завершена и вы готовы продолжать."
   ]
  },
  {
   "cell_type": "markdown",
   "metadata": {},
   "source": [
    "# Jupyter\n",
    "\n",
    "## Устройство\n",
    "\n",
    "Jupyter - интерактивные тетрадки, в которых мы будем работать. Почему не полноценное IDE, а именно тетради?\n",
    "\n",
    "* Великолепны в визуализации.\n",
    "* Позволяют быстро прототипировать ML-решения.\n",
    "* Все под рукой: текст, markdown, вставки html.\n",
    "\n",
    "Ячейки бывают нескольких типов. Сейчас вы читаете __markdown__-ячейку с текстом. Есть еще ячейка с __кодом__ и __\"сырая\"__ ячейка (raw), текст в которой никак не обрабатывается.\n",
    "\n",
    "Ячейки можно выделить, просто ткнув в нее мышкой (она подсветится синим). Чтобы изменить тип ячейки, достаточно нажать клавишу:\n",
    "\n",
    "* __`M`__ превратит ячейку в ячейку с markdown;\n",
    "* __`Y`__ - в ячейку с кодом;\n",
    "* __`R`__ - в \"сырую\" ячейку.\n",
    "\n",
    "Примеры:"
   ]
  },
  {
   "cell_type": "markdown",
   "metadata": {},
   "source": [
    "1) Ячейка с markdown."
   ]
  },
  {
   "cell_type": "raw",
   "metadata": {},
   "source": [
    "2) Raw-ячейка"
   ]
  },
  {
   "cell_type": "code",
   "execution_count": 2,
   "metadata": {
    "ExecuteTime": {
     "end_time": "2017-07-05T13:53:38.557699",
     "start_time": "2017-07-05T13:53:38.552962"
    },
    "collapsed": false,
    "jupyter": {
     "outputs_hidden": false
    }
   },
   "outputs": [
    {
     "name": "stdout",
     "output_type": "stream",
     "text": [
      "3) Ячейка с исполняемым кодом\n"
     ]
    }
   ],
   "source": [
    "print('3) Ячейка с исполняемым кодом')"
   ]
  },
  {
   "cell_type": "markdown",
   "metadata": {},
   "source": [
    "<br>\n",
    "\n",
    "Дважды кликнув, можно ячейку редактировать (при этом она подсвечивается). \n",
    "\n",
    "__`Esc`__ вернет к уровню выделения всей ячейки, __`Enter`__ - снова к редактированию содержимого. Чтобы ячейку выполнить, нужно нажать __`Shift + Enter`__."
   ]
  },
  {
   "cell_type": "markdown",
   "metadata": {},
   "source": [
    "## Клавиатурные комбинации \n",
    "\n",
    "Ячейки можно копировать, вырезать и вставлять. Для этого на уровне работы с целыми ячейками достаточно нажимать __`C`__, __`X`__ и __`V`__, соответственно.\n",
    "\n",
    "Удалять ячейки можно с помощью вырезания, в общем-то, но еще можно дважды нажать __`D`__.\n",
    "\n",
    "Чтобы добавить ячейку выше текущей, нужно нажать __`A`__, чтобы вставить ниже - __`B`__.\n",
    "\n",
    "Объединить несколько в одну можно, если выделить верхнюю и нажимать __`Shift + M`__. Разделить одну на несколько сложнее: поставьте курсор, где ячейка должна быть разбита, и нажмите __`Ctrl + Alt + -`__ (минус, что около нуля).\n",
    "\n",
    "Попробуйте прямо на этой ячейке!\n",
    "\n",
    "Наконец, с помощью __`J`__ и __`K`__ можно быстро перемещаться вверх и вниз между ячейками."
   ]
  },
  {
   "cell_type": "markdown",
   "metadata": {},
   "source": [
    "## Lab\n",
    "\n",
    "Есть 2 проекта: [notebook](https://github.com/jupyter/notebook) и [lab](https://github.com/jupyterlab/jupyterlab). Lab –– это обновленная версия notebook с более приятным UI & UX, я советую использовать именно его."
   ]
  }
 ],
 "metadata": {
  "kernelspec": {
   "display_name": "FaceBoxes.PyTorch",
   "language": "python",
   "name": "faceboxes.pytorch"
  },
  "language_info": {
   "codemirror_mode": {
    "name": "ipython",
    "version": 3
   },
   "file_extension": ".py",
   "mimetype": "text/x-python",
   "name": "python",
   "nbconvert_exporter": "python",
   "pygments_lexer": "ipython3",
   "version": "3.6.8"
  },
  "toc": {
   "colors": {
    "hover_highlight": "#DAA520",
    "running_highlight": "#FF0000",
    "selected_highlight": "#FFD700"
   },
   "moveMenuLeft": true,
   "nav_menu": {
    "height": "66px",
    "width": "252px"
   },
   "navigate_menu": true,
   "number_sections": true,
   "sideBar": true,
   "threshold": 4,
   "toc_cell": false,
   "toc_section_display": "block",
   "toc_window_display": false
  }
 },
 "nbformat": 4,
 "nbformat_minor": 4
}
