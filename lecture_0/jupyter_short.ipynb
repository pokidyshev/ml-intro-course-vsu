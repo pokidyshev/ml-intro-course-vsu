{
 "cells": [
  {
   "cell_type": "markdown",
   "metadata": {},
   "source": [
    "# Jupyter"
   ]
  },
  {
   "cell_type": "markdown",
   "metadata": {},
   "source": [
    "## Устройство"
   ]
  },
  {
   "cell_type": "markdown",
   "metadata": {},
   "source": [
    "Jupyter - интерактивные тетрадки, в которых мы будем работать. Почему не полноценное IDE, а именно тетради?\n",
    "\n",
    "* Великолепны в визуализации.\n",
    "* Позволяют быстро прототипировать ML-решения.\n",
    "* Все под рукой: текст, markdown, вставки html - без проблем."
   ]
  },
  {
   "cell_type": "markdown",
   "metadata": {},
   "source": [
    "Ячейки бывают нескольких типов. Сейчас вы читаете __markdown__-ячейку с текстом. Есть еще ячейка с __кодом__ и __\"сырая\"__ ячейка (raw), текст в которой никак не обрабатывается."
   ]
  },
  {
   "cell_type": "markdown",
   "metadata": {},
   "source": [
    "Ячейки можно выделить, просто ткнув в нее мышкой (она подсветится синим). Чтобы изменить тип ячейки, достаточно нажать клавишу:\n",
    "\n",
    "* __`M`__ превратит ячейку в ячейку с markdown;\n",
    "* __`Y`__ - в ячейку с кодом;\n",
    "* __`R`__ - в \"сырую\" ячейку."
   ]
  },
  {
   "cell_type": "markdown",
   "metadata": {},
   "source": [
    "Примеры:"
   ]
  },
  {
   "cell_type": "markdown",
   "metadata": {},
   "source": [
    "1) Ячейка с markdown."
   ]
  },
  {
   "cell_type": "raw",
   "metadata": {},
   "source": [
    "2) Raw-ячейка\n",
    "asdasd\n",
    "\n",
    "asd\n",
    "ads"
   ]
  },
  {
   "cell_type": "code",
   "execution_count": 2,
   "metadata": {},
   "outputs": [],
   "source": [
    "import numpy as np"
   ]
  },
  {
   "cell_type": "code",
   "execution_count": 1,
   "metadata": {
    "ExecuteTime": {
     "end_time": "2017-07-05T13:53:38.557699",
     "start_time": "2017-07-05T13:53:38.552962"
    },
    "collapsed": false,
    "jupyter": {
     "outputs_hidden": false
    }
   },
   "outputs": [
    {
     "name": "stdout",
     "output_type": "stream",
     "text": [
      "3) Ячейка с исполняемым кодом\n"
     ]
    }
   ],
   "source": [
    "print('3) Ячейка с исполняемым кодом')"
   ]
  },
  {
   "cell_type": "code",
   "execution_count": 5,
   "metadata": {},
   "outputs": [
    {
     "data": {
      "text/plain": [
       "2"
      ]
     },
     "execution_count": 5,
     "metadata": {},
     "output_type": "execute_result"
    }
   ],
   "source": [
    "1+1"
   ]
  },
  {
   "cell_type": "markdown",
   "metadata": {},
   "source": [
    "<br>\n",
    "\n",
    "Дважды кликнув, можно ячейку редактировать (при этом она подсвечивается). \n",
    "\n",
    "__`Esc`__ вернет к уровню выделения всей ячейки, __`Enter`__ - снова к редактированию содержимого. Чтобы ячейку выполнить, нужно нажать __`Shift + Enter`__."
   ]
  },
  {
   "cell_type": "markdown",
   "metadata": {},
   "source": [
    "## Клавиатурные комбинации "
   ]
  },
  {
   "cell_type": "markdown",
   "metadata": {},
   "source": [
    "Ячейки можно копировать, вырезать и вставлять. Для этого на уровне работы с целыми ячейками достаточно нажимать __`C`__, __`X`__ и __`V`__, соответственно.\n",
    "\n",
    "Удалять ячейки можно с помощью вырезания, в общем-то, но еще можно дважды нажать __`D`__."
   ]
  },
  {
   "cell_type": "markdown",
   "metadata": {},
   "source": [
    "Чтобы добавить ячейку выше текущей, нужно нажать __`A`__, чтобы вставить ниже - __`B`__.\n",
    "\n",
    "Объединить несколько в одну можно, если выделить верхнюю и нажимать __`Shift + M`__. Разделить одну на несколько сложнее: поставьте курсор, где ячейка должна быть разбита, и нажмите __`Ctrl + Alt + -`__ (минус, что около нуля).\n",
    "\n",
    "Попробуйте прямо на этой ячейке!"
   ]
  },
  {
   "cell_type": "markdown",
   "metadata": {},
   "source": [
    "Наконец, с помощью __`J`__ и __`K`__ можно быстро перемещаться вверх и вниз между ячейками."
   ]
  },
  {
   "cell_type": "markdown",
   "metadata": {},
   "source": [
    "## Lab"
   ]
  },
  {
   "cell_type": "markdown",
   "metadata": {},
   "source": [
    "Есть 2 проекта: [notebook](https://github.com/jupyter/notebook) и [lab](https://github.com/jupyterlab/jupyterlab). Lab –– это обновленная версия notebook с более приятным UI & UX, я советую использовать именно его."
   ]
  }
 ],
 "metadata": {
  "kernelspec": {
   "display_name": "FaceBoxes.PyTorch",
   "language": "python",
   "name": "faceboxes.pytorch"
  },
  "language_info": {
   "codemirror_mode": {
    "name": "ipython",
    "version": 3
   },
   "file_extension": ".py",
   "mimetype": "text/x-python",
   "name": "python",
   "nbconvert_exporter": "python",
   "pygments_lexer": "ipython3",
   "version": "3.6.8"
  },
  "toc": {
   "colors": {
    "hover_highlight": "#DAA520",
    "running_highlight": "#FF0000",
    "selected_highlight": "#FFD700"
   },
   "moveMenuLeft": true,
   "nav_menu": {
    "height": "66px",
    "width": "252px"
   },
   "navigate_menu": true,
   "number_sections": true,
   "sideBar": true,
   "threshold": 4,
   "toc_cell": false,
   "toc_section_display": "block",
   "toc_window_display": false
  }
 },
 "nbformat": 4,
 "nbformat_minor": 4
}
