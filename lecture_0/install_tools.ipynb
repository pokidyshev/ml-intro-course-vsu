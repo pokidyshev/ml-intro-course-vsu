{
 "cells": [
  {
   "cell_type": "markdown",
   "metadata": {},
   "source": [
    "# Установка инструментов"
   ]
  },
  {
   "cell_type": "markdown",
   "metadata": {},
   "source": [
    "## Установка Anaconda\n",
    "\n",
    "Рекомендую устанавливать все инструменты через Anaconda.\n",
    "\n",
    "[Вот инструкция под все системы](https://docs.conda.io/projects/conda/en/latest/user-guide/install/). Там же можно найти и ссылки для скачивания.\n",
    "\n",
    "Дальше все просто: как вы и привыкли в Windows, _\"Далее\", \"Далее\", \"Готово\"_."
   ]
  },
  {
   "cell_type": "markdown",
   "metadata": {},
   "source": [
    "JupyterLab и все необходимые пакеты устанавливаем через UI Anaconda Navigator. Их потребуется немного: `numpy pandas sklearn matplotlib seaborn`"
   ]
  },
  {
   "cell_type": "markdown",
   "metadata": {},
   "source": [
    "Запусти JupyterLab через Anaconda Navigator и выполни следующую ячейку (нажми Shift + Enter). В результате не должно возникнуть ошибок."
   ]
  },
  {
   "cell_type": "code",
   "execution_count": 1,
   "metadata": {
    "ExecuteTime": {
     "end_time": "2017-07-17T13:19:11.458677",
     "start_time": "2017-07-17T13:19:10.555009"
    },
    "collapsed": false,
    "jupyter": {
     "outputs_hidden": false
    }
   },
   "outputs": [],
   "source": [
    "import numpy, pandas, sklearn, matplotlib, seaborn"
   ]
  },
  {
   "cell_type": "markdown",
   "metadata": {},
   "source": [
    "На этом настройка завершена и вы готовы продолжать."
   ]
  }
 ],
 "metadata": {
  "kernelspec": {
   "display_name": "FaceBoxes.PyTorch",
   "language": "python",
   "name": "faceboxes.pytorch"
  },
  "language_info": {
   "codemirror_mode": {
    "name": "ipython",
    "version": 3
   },
   "file_extension": ".py",
   "mimetype": "text/x-python",
   "name": "python",
   "nbconvert_exporter": "python",
   "pygments_lexer": "ipython3",
   "version": "3.6.8"
  },
  "toc": {
   "colors": {
    "hover_highlight": "#DAA520",
    "running_highlight": "#FF0000",
    "selected_highlight": "#FFD700"
   },
   "moveMenuLeft": true,
   "nav_menu": {
    "height": "228px",
    "width": "252px"
   },
   "navigate_menu": true,
   "number_sections": true,
   "sideBar": true,
   "threshold": 4,
   "toc_cell": false,
   "toc_section_display": "block",
   "toc_window_display": false
  }
 },
 "nbformat": 4,
 "nbformat_minor": 4
}
