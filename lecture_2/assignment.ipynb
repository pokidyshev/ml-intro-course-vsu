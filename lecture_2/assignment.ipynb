{
 "cells": [
  {
   "cell_type": "code",
   "execution_count": 1,
   "metadata": {
    "ExecuteTime": {
     "end_time": "2017-12-01T00:15:40.981376",
     "start_time": "2017-12-01T00:15:40.977896"
    }
   },
   "outputs": [],
   "source": [
    "import pandas as pd\n",
    "import numpy as np"
   ]
  },
  {
   "cell_type": "markdown",
   "metadata": {},
   "source": [
    "# Линейная регрессия"
   ]
  },
  {
   "cell_type": "markdown",
   "metadata": {},
   "source": [
    "Нельзя приступать к сложным упражнениям, не размявшись. Поэтому сначала все будет очень просто.\n",
    "\n",
    "1. __Прочитай данные.__ В этой задаче предлагается находить общую сумму платежа страховой компании (`TotalPayment`) по количеству поданых исков (`NumberOfClaims`).\n",
    "\n",
    "2. __Построй диаграмму рассеяния__ (scatter plot) и убедись по графику, что со стоящей перед тобой задачей справится линейная регрессия.\n",
    "\n",
    "3. __Расчехляй `LinearRegression`__ и нарусуй на той же диаграмме рассеяния ее предсказания в виде красной линии.\n",
    "\n",
    "4. __Измерь ошибку__ предсказаний с помощью метрики __RMSE__ - _\"корень из среднеквадратической ошибки\"_. Все метрики лежат в `sklearn.metrics`. Если ты все сделал правильно, она будет равна примерно 35. "
   ]
  },
  {
   "cell_type": "code",
   "execution_count": null,
   "metadata": {
    "ExecuteTime": {
     "end_time": "2017-11-30T23:24:38.222740",
     "start_time": "2017-11-30T23:24:38.211552"
    }
   },
   "outputs": [],
   "source": [
    "df = pd.read_csv(\n",
    "    # путь к Auto issurance файлу\n",
    ")\n",
    "df.sort_values(by=['NumberOfClaims'], inplace=True)\n",
    "df.head()"
   ]
  },
  {
   "cell_type": "code",
   "execution_count": null,
   "metadata": {
    "ExecuteTime": {
     "end_time": "2017-11-30T23:24:40.410510",
     "start_time": "2017-11-30T23:24:39.676474"
    },
    "collapsed": false,
    "jupyter": {
     "outputs_hidden": false
    }
   },
   "outputs": [],
   "source": [
    "# Ваш код здесь"
   ]
  }
 ],
 "metadata": {
  "kernelspec": {
   "display_name": "Python 3",
   "language": "python",
   "name": "python3"
  },
  "language_info": {
   "codemirror_mode": {
    "name": "ipython",
    "version": 3
   },
   "file_extension": ".py",
   "mimetype": "text/x-python",
   "name": "python",
   "nbconvert_exporter": "python",
   "pygments_lexer": "ipython3",
   "version": "3.7.4"
  },
  "toc": {
   "colors": {
    "hover_highlight": "#DAA520",
    "running_highlight": "#FF0000",
    "selected_highlight": "#FFD700"
   },
   "moveMenuLeft": true,
   "nav_menu": {
    "height": "120px",
    "width": "252px"
   },
   "navigate_menu": true,
   "number_sections": true,
   "sideBar": true,
   "threshold": 4,
   "toc_cell": false,
   "toc_section_display": "block",
   "toc_window_display": false
  }
 },
 "nbformat": 4,
 "nbformat_minor": 4
}
