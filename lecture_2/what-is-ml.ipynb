{
 "cells": [
  {
   "cell_type": "markdown",
   "metadata": {},
   "source": [
    "# Что такое машинное обучение?"
   ]
  },
  {
   "cell_type": "markdown",
   "metadata": {},
   "source": [
    "<img src='../images/arthur_samuel_checkers.jpg'>\n",
    "\n",
    "- *1959, Arthur Samuel*  \n",
    "    \"Field of study that gives computers the ability  \n",
    "     to learn without being explicitly programmed\".\n",
    "     \n",
    "- *1998, Tom M. Mitchell*  \n",
    "    \"A computer program is said to learn from experience E      \n",
    "    with respect to some class of tasks T   \n",
    "    and performance measure P  \n",
    "    if its performance at tasks in T, as measured by P,   \n",
    "    improves with experience E.\""
   ]
  },
  {
   "cell_type": "markdown",
   "metadata": {},
   "source": [
    "# Какие бывают задачи в машинном обучении?\n",
    "\n",
    "- Supervised learning\n",
    "- Unsupervised learning\n",
    "- Reinforcement learning\n",
    "\n",
    "<img src='../images/supervised_unsupervised.png'>"
   ]
  },
  {
   "cell_type": "markdown",
   "metadata": {},
   "source": [
    "## Supervised learning\n",
    "\n",
    "### Задача:  \n",
    "Имеется некая пара $(X, Y)$ или по-другому \"вход-выход\".  \n",
    "Необходимо найти функцию, которая бы аппроксимировала отображение $X \\to Y$ наилучшим образом.\n",
    "\n",
    "### Примеры:  \n",
    "- Спам фильтр в почте\n",
    "- Предсказание кол-ва проданных единиц товара для оптимизации производства"
   ]
  },
  {
   "cell_type": "markdown",
   "metadata": {},
   "source": [
    "## Unsupervised learning\n",
    "\n",
    "### Задача:  \n",
    "Имеются некоторые данные $Х$ (только \"вход\").  \n",
    "Необходимо найти в данных внутренние взаимосвязи, зависимости, закономерности, существующие между объектами.\n",
    "\n",
    "### Примеры:  \n",
    "- Сегментирование покупателей\n",
    "- Поиск аномалий\n",
    "- Из веселого –– генерация лиц"
   ]
  },
  {
   "cell_type": "markdown",
   "metadata": {},
   "source": [
    "## Reinforcement learning\n",
    "\n",
    "<img src='../images/reinforcement-learning.jpg'>\n",
    "\n",
    "### Задача:\n",
    "Есть некоторый агент и среда, с которой он взаимодействует.  \n",
    "За свои действия агент получает некую награду (или штраф).  \n",
    "Задача агента в том, чтобы вывести оптимальную стратегию, которая будет максимизировать награду.\n",
    "\n",
    "### Примеры:\n",
    "- Обучение собаки выполнению команд\n",
    "- Обучение бота для [игры](https://www.youtube.com/watch?v=JJw-8rhrbww) в [доту](https://www.youtube.com/watch?v=wiOopO9jTZw) \n",
    "- https://deepmind.com/blog/learning-through-human-feedback/"
   ]
  },
  {
   "cell_type": "markdown",
   "metadata": {},
   "source": [
    "# Типы задач в supervised learning\n",
    "- Regression\n",
    "- Classification\n",
    "\n",
    "<img src='../images/linear_regression.png'>"
   ]
  }
 ],
 "metadata": {
  "kernelspec": {
   "display_name": "Python 3",
   "language": "python",
   "name": "python3"
  },
  "language_info": {
   "codemirror_mode": {
    "name": "ipython",
    "version": 3
   },
   "file_extension": ".py",
   "mimetype": "text/x-python",
   "name": "python",
   "nbconvert_exporter": "python",
   "pygments_lexer": "ipython3",
   "version": "3.7.4"
  }
 },
 "nbformat": 4,
 "nbformat_minor": 4
}
